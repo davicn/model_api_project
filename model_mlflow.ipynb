{
 "cells": [
  {
   "cell_type": "markdown",
   "metadata": {},
   "source": [
    "# MLFlow\n",
    "\n",
    "\n",
    "Precisa de um Banco de Dados SQL (mysql, postgres, sqlite)\n",
    "\n",
    "```\n",
    "pip install mlflow\n",
    "\n",
    "sudo apt install sqlite3\n",
    "\n",
    "```\n",
    "\n",
    "\n",
    "\n",
    "```\n",
    "\n",
    "mlflow server --backend-store-uri sqlite:///mlrunsdb.db \\\n",
    "              --default-artifact-root ./mlflowruns \\\n",
    "              --host 0.0.0.0 \\\n",
    "              --port 5000\n",
    "\n",
    "```"
   ]
  },
  {
   "cell_type": "code",
   "execution_count": 10,
   "metadata": {},
   "outputs": [
    {
     "data": {
      "text/html": [
       "<div>\n",
       "<style scoped>\n",
       "    .dataframe tbody tr th:only-of-type {\n",
       "        vertical-align: middle;\n",
       "    }\n",
       "\n",
       "    .dataframe tbody tr th {\n",
       "        vertical-align: top;\n",
       "    }\n",
       "\n",
       "    .dataframe thead th {\n",
       "        text-align: right;\n",
       "    }\n",
       "</style>\n",
       "<table border=\"1\" class=\"dataframe\">\n",
       "  <thead>\n",
       "    <tr style=\"text-align: right;\">\n",
       "      <th></th>\n",
       "      <th>sepal.length</th>\n",
       "      <th>sepal.width</th>\n",
       "      <th>petal.length</th>\n",
       "      <th>petal.width</th>\n",
       "      <th>variety</th>\n",
       "    </tr>\n",
       "  </thead>\n",
       "  <tbody>\n",
       "    <tr>\n",
       "      <th>0</th>\n",
       "      <td>5.1</td>\n",
       "      <td>3.5</td>\n",
       "      <td>1.4</td>\n",
       "      <td>0.2</td>\n",
       "      <td>Setosa</td>\n",
       "    </tr>\n",
       "    <tr>\n",
       "      <th>1</th>\n",
       "      <td>4.9</td>\n",
       "      <td>3.0</td>\n",
       "      <td>1.4</td>\n",
       "      <td>0.2</td>\n",
       "      <td>Setosa</td>\n",
       "    </tr>\n",
       "    <tr>\n",
       "      <th>2</th>\n",
       "      <td>4.7</td>\n",
       "      <td>3.2</td>\n",
       "      <td>1.3</td>\n",
       "      <td>0.2</td>\n",
       "      <td>Setosa</td>\n",
       "    </tr>\n",
       "    <tr>\n",
       "      <th>3</th>\n",
       "      <td>4.6</td>\n",
       "      <td>3.1</td>\n",
       "      <td>1.5</td>\n",
       "      <td>0.2</td>\n",
       "      <td>Setosa</td>\n",
       "    </tr>\n",
       "    <tr>\n",
       "      <th>4</th>\n",
       "      <td>5.0</td>\n",
       "      <td>3.6</td>\n",
       "      <td>1.4</td>\n",
       "      <td>0.2</td>\n",
       "      <td>Setosa</td>\n",
       "    </tr>\n",
       "    <tr>\n",
       "      <th>...</th>\n",
       "      <td>...</td>\n",
       "      <td>...</td>\n",
       "      <td>...</td>\n",
       "      <td>...</td>\n",
       "      <td>...</td>\n",
       "    </tr>\n",
       "    <tr>\n",
       "      <th>145</th>\n",
       "      <td>6.7</td>\n",
       "      <td>3.0</td>\n",
       "      <td>5.2</td>\n",
       "      <td>2.3</td>\n",
       "      <td>Virginica</td>\n",
       "    </tr>\n",
       "    <tr>\n",
       "      <th>146</th>\n",
       "      <td>6.3</td>\n",
       "      <td>2.5</td>\n",
       "      <td>5.0</td>\n",
       "      <td>1.9</td>\n",
       "      <td>Virginica</td>\n",
       "    </tr>\n",
       "    <tr>\n",
       "      <th>147</th>\n",
       "      <td>6.5</td>\n",
       "      <td>3.0</td>\n",
       "      <td>5.2</td>\n",
       "      <td>2.0</td>\n",
       "      <td>Virginica</td>\n",
       "    </tr>\n",
       "    <tr>\n",
       "      <th>148</th>\n",
       "      <td>6.2</td>\n",
       "      <td>3.4</td>\n",
       "      <td>5.4</td>\n",
       "      <td>2.3</td>\n",
       "      <td>Virginica</td>\n",
       "    </tr>\n",
       "    <tr>\n",
       "      <th>149</th>\n",
       "      <td>5.9</td>\n",
       "      <td>3.0</td>\n",
       "      <td>5.1</td>\n",
       "      <td>1.8</td>\n",
       "      <td>Virginica</td>\n",
       "    </tr>\n",
       "  </tbody>\n",
       "</table>\n",
       "<p>150 rows × 5 columns</p>\n",
       "</div>"
      ],
      "text/plain": [
       "     sepal.length  sepal.width  petal.length  petal.width    variety\n",
       "0             5.1          3.5           1.4          0.2     Setosa\n",
       "1             4.9          3.0           1.4          0.2     Setosa\n",
       "2             4.7          3.2           1.3          0.2     Setosa\n",
       "3             4.6          3.1           1.5          0.2     Setosa\n",
       "4             5.0          3.6           1.4          0.2     Setosa\n",
       "..            ...          ...           ...          ...        ...\n",
       "145           6.7          3.0           5.2          2.3  Virginica\n",
       "146           6.3          2.5           5.0          1.9  Virginica\n",
       "147           6.5          3.0           5.2          2.0  Virginica\n",
       "148           6.2          3.4           5.4          2.3  Virginica\n",
       "149           5.9          3.0           5.1          1.8  Virginica\n",
       "\n",
       "[150 rows x 5 columns]"
      ]
     },
     "execution_count": 10,
     "metadata": {},
     "output_type": "execute_result"
    }
   ],
   "source": [
    "import pandas as pd\n",
    "\n",
    "URL = 'https://gist.githubusercontent.com/netj/8836201/raw/6f9306ad21398ea43cba4f7d537619d0e07d5ae3/iris.csv'\n",
    "\n",
    "\n",
    "df = pd.read_csv(URL)\n",
    "\n",
    "# cols = ['label']\n",
    "\n",
    "# cols.extend(['feature_'+str(i) for i in range(1,14)])\n",
    "\n",
    "# df.columns = cols\n",
    "\n",
    "df"
   ]
  },
  {
   "cell_type": "code",
   "execution_count": 11,
   "metadata": {},
   "outputs": [],
   "source": [
    "from sklearn.model_selection import train_test_split\n",
    "from sklearn.preprocessing import LabelEncoder\n",
    "\n",
    "\n",
    "\n",
    "\n",
    "X = df.iloc[:, :-1]\n",
    "y = df['variety']\n",
    "\n",
    "\n",
    "le = LabelEncoder()\n",
    "le.fit(y)\n",
    "y = le.transform(y)\n",
    "\n",
    "X_train, X_test, y_train, y_test = train_test_split(X,y , test_size=0.3)\n",
    "\n",
    "\n",
    "X_train, X_val, y_train, y_val = train_test_split(X_train, y_train, test_size=0.25)\n"
   ]
  },
  {
   "cell_type": "code",
   "execution_count": 12,
   "metadata": {},
   "outputs": [
    {
     "data": {
      "text/plain": [
       "<Experiment: artifact_location='./mlruns/2', experiment_id='2', lifecycle_stage='active', name='Classificação de Flores', tags={'Módulo': 'Modelos Produtivos 1', 'Turma': '815', 'objeto': 'iris'}>"
      ]
     },
     "execution_count": 12,
     "metadata": {},
     "output_type": "execute_result"
    }
   ],
   "source": [
    "import mlflow\n",
    "\n",
    "# DB_URI = 'sqlite:///mlrunsdb.db'\n",
    "mlflow.set_tracking_uri('http://18.230.88.3/')\n",
    "\n",
    "tags = {\n",
    "    \"Módulo\":\"Modelos Produtivos 1\",\n",
    "    \"Turma\":815,\n",
    "    \"objeto\":'iris'\n",
    "}\n",
    "mlflow.set_experiment(experiment_name='Classificação de Flores')\n",
    "# mlflow.set_experiment_tags(tags=tags)"
   ]
  },
  {
   "cell_type": "code",
   "execution_count": 13,
   "metadata": {},
   "outputs": [],
   "source": [
    "from sklearn.metrics import (accuracy_score, precision_score, recall_score, f1_score, confusion_matrix)\n",
    "\n",
    "\n",
    "def get_metrics(y_test:list, y_pred:list) -> list:\n",
    "    ac = accuracy_score(y_test, y_pred)\n",
    "    pr = precision_score(y_test, y_pred, average='weighted')\n",
    "    rc = recall_score(y_test, y_pred, average='weighted')\n",
    "    f1 = f1_score(y_test, y_pred, average='weighted')\n",
    "    return [ac, pr, rc, f1]\n"
   ]
  },
  {
   "cell_type": "code",
   "execution_count": 14,
   "metadata": {},
   "outputs": [
    {
     "ename": "RestException",
     "evalue": "BAD_REQUEST: (sqlite3.IntegrityError) UNIQUE constraint failed: tags.key, tags.run_uuid\n[SQL: INSERT INTO tags (\"key\", value, run_uuid) VALUES (?, ?, ?)]\n[parameters: (('mlflow.user', 'davi', '663ef17f8329423ab0ecf96b637990f7'), ('mlflow.source.name', '/home/davi/.local/lib/python3.8/site-packages/ipykernel_launcher.py', '663ef17f8329423ab0ecf96b637990f7'), ('mlflow.source.type', 'LOCAL', '663ef17f8329423ab0ecf96b637990f7'), ('mlflow.note.content', 'Flores', '663ef17f8329423ab0ecf96b637990f7'), ('mlflow.runName', 'API', '663ef17f8329423ab0ecf96b637990f7'), ('mlflow.runName', 'monumental-shrew-565', '663ef17f8329423ab0ecf96b637990f7'))]\n(Background on this error at: https://sqlalche.me/e/14/gkpj)",
     "output_type": "error",
     "traceback": [
      "\u001b[0;31m---------------------------------------------------------------------------\u001b[0m",
      "\u001b[0;31mRestException\u001b[0m                             Traceback (most recent call last)",
      "\u001b[1;32m/c/Users/davi.nascimento/OneDrive - COMPASSO TECNOLOGIA LTDA/Documentos/Ada/truma_815/aula_2/model_mlflow.ipynb Cell 6\u001b[0m in \u001b[0;36m<cell line: 7>\u001b[0;34m()\u001b[0m\n\u001b[1;32m      <a href='vscode-notebook-cell://wsl%2Bubuntu/c/Users/davi.nascimento/OneDrive%20-%20COMPASSO%20TECNOLOGIA%20LTDA/Documentos/Ada/truma_815/aula_2/model_mlflow.ipynb#W5sdnNjb2RlLXJlbW90ZQ%3D%3D?line=1'>2</a>\u001b[0m \u001b[39mfrom\u001b[39;00m \u001b[39msklearn\u001b[39;00m\u001b[39m.\u001b[39;00m\u001b[39mpreprocessing\u001b[39;00m \u001b[39mimport\u001b[39;00m StandardScaler\n\u001b[1;32m      <a href='vscode-notebook-cell://wsl%2Bubuntu/c/Users/davi.nascimento/OneDrive%20-%20COMPASSO%20TECNOLOGIA%20LTDA/Documentos/Ada/truma_815/aula_2/model_mlflow.ipynb#W5sdnNjb2RlLXJlbW90ZQ%3D%3D?line=2'>3</a>\u001b[0m \u001b[39mfrom\u001b[39;00m \u001b[39msklearn\u001b[39;00m\u001b[39m.\u001b[39;00m\u001b[39mpipeline\u001b[39;00m \u001b[39mimport\u001b[39;00m Pipeline\n\u001b[0;32m----> <a href='vscode-notebook-cell://wsl%2Bubuntu/c/Users/davi.nascimento/OneDrive%20-%20COMPASSO%20TECNOLOGIA%20LTDA/Documentos/Ada/truma_815/aula_2/model_mlflow.ipynb#W5sdnNjb2RlLXJlbW90ZQ%3D%3D?line=6'>7</a>\u001b[0m \u001b[39mwith\u001b[39;00m mlflow\u001b[39m.\u001b[39;49mstart_run(\n\u001b[1;32m      <a href='vscode-notebook-cell://wsl%2Bubuntu/c/Users/davi.nascimento/OneDrive%20-%20COMPASSO%20TECNOLOGIA%20LTDA/Documentos/Ada/truma_815/aula_2/model_mlflow.ipynb#W5sdnNjb2RlLXJlbW90ZQ%3D%3D?line=7'>8</a>\u001b[0m     run_name\u001b[39m=\u001b[39;49m\u001b[39m'\u001b[39;49m\u001b[39mAPI\u001b[39;49m\u001b[39m'\u001b[39;49m,\n\u001b[1;32m      <a href='vscode-notebook-cell://wsl%2Bubuntu/c/Users/davi.nascimento/OneDrive%20-%20COMPASSO%20TECNOLOGIA%20LTDA/Documentos/Ada/truma_815/aula_2/model_mlflow.ipynb#W5sdnNjb2RlLXJlbW90ZQ%3D%3D?line=8'>9</a>\u001b[0m     description\u001b[39m=\u001b[39;49m\u001b[39m'\u001b[39;49m\u001b[39mFlores\u001b[39;49m\u001b[39m'\u001b[39;49m,\n\u001b[1;32m     <a href='vscode-notebook-cell://wsl%2Bubuntu/c/Users/davi.nascimento/OneDrive%20-%20COMPASSO%20TECNOLOGIA%20LTDA/Documentos/Ada/truma_815/aula_2/model_mlflow.ipynb#W5sdnNjb2RlLXJlbW90ZQ%3D%3D?line=9'>10</a>\u001b[0m     \u001b[39m# tags={\"version\":\"v3\",\"env\":\"dev\"}\u001b[39;49;00m\n\u001b[1;32m     <a href='vscode-notebook-cell://wsl%2Bubuntu/c/Users/davi.nascimento/OneDrive%20-%20COMPASSO%20TECNOLOGIA%20LTDA/Documentos/Ada/truma_815/aula_2/model_mlflow.ipynb#W5sdnNjb2RlLXJlbW90ZQ%3D%3D?line=10'>11</a>\u001b[0m ) \u001b[39mas\u001b[39;00m model_run:\n\u001b[1;32m     <a href='vscode-notebook-cell://wsl%2Bubuntu/c/Users/davi.nascimento/OneDrive%20-%20COMPASSO%20TECNOLOGIA%20LTDA/Documentos/Ada/truma_815/aula_2/model_mlflow.ipynb#W5sdnNjb2RlLXJlbW90ZQ%3D%3D?line=13'>14</a>\u001b[0m     k \u001b[39m=\u001b[39m \u001b[39m9\u001b[39m\n\u001b[1;32m     <a href='vscode-notebook-cell://wsl%2Bubuntu/c/Users/davi.nascimento/OneDrive%20-%20COMPASSO%20TECNOLOGIA%20LTDA/Documentos/Ada/truma_815/aula_2/model_mlflow.ipynb#W5sdnNjb2RlLXJlbW90ZQ%3D%3D?line=14'>15</a>\u001b[0m     knn \u001b[39m=\u001b[39m KNeighborsClassifier(n_neighbors\u001b[39m=\u001b[39mk)\n",
      "File \u001b[0;32m~/.local/lib/python3.8/site-packages/mlflow/tracking/fluent.py:330\u001b[0m, in \u001b[0;36mstart_run\u001b[0;34m(run_id, experiment_id, run_name, nested, tags, description)\u001b[0m\n\u001b[1;32m    326\u001b[0m         user_specified_tags[MLFLOW_RUN_NAME] \u001b[39m=\u001b[39m run_name\n\u001b[1;32m    328\u001b[0m     resolved_tags \u001b[39m=\u001b[39m context_registry\u001b[39m.\u001b[39mresolve_tags(user_specified_tags)\n\u001b[0;32m--> 330\u001b[0m     active_run_obj \u001b[39m=\u001b[39m client\u001b[39m.\u001b[39;49mcreate_run(experiment_id\u001b[39m=\u001b[39;49mexp_id_for_run, tags\u001b[39m=\u001b[39;49mresolved_tags)\n\u001b[1;32m    332\u001b[0m _active_run_stack\u001b[39m.\u001b[39mappend(ActiveRun(active_run_obj))\n\u001b[1;32m    333\u001b[0m \u001b[39mreturn\u001b[39;00m _active_run_stack[\u001b[39m-\u001b[39m\u001b[39m1\u001b[39m]\n",
      "File \u001b[0;32m~/.local/lib/python3.8/site-packages/mlflow/tracking/client.py:265\u001b[0m, in \u001b[0;36mMlflowClient.create_run\u001b[0;34m(self, experiment_id, start_time, tags)\u001b[0m\n\u001b[1;32m    219\u001b[0m \u001b[39mdef\u001b[39;00m \u001b[39mcreate_run\u001b[39m(\n\u001b[1;32m    220\u001b[0m     \u001b[39mself\u001b[39m,\n\u001b[1;32m    221\u001b[0m     experiment_id: \u001b[39mstr\u001b[39m,\n\u001b[1;32m    222\u001b[0m     start_time: Optional[\u001b[39mint\u001b[39m] \u001b[39m=\u001b[39m \u001b[39mNone\u001b[39;00m,\n\u001b[1;32m    223\u001b[0m     tags: Optional[Dict[\u001b[39mstr\u001b[39m, Any]] \u001b[39m=\u001b[39m \u001b[39mNone\u001b[39;00m,\n\u001b[1;32m    224\u001b[0m ) \u001b[39m-\u001b[39m\u001b[39m>\u001b[39m Run:\n\u001b[1;32m    225\u001b[0m     \u001b[39m\"\"\"\u001b[39;00m\n\u001b[1;32m    226\u001b[0m \u001b[39m    Create a :py:class:`mlflow.entities.Run` object that can be associated with\u001b[39;00m\n\u001b[1;32m    227\u001b[0m \u001b[39m    metrics, parameters, artifacts, etc.\u001b[39;00m\n\u001b[0;32m   (...)\u001b[0m\n\u001b[1;32m    263\u001b[0m \u001b[39m        status: RUNNING\u001b[39;00m\n\u001b[1;32m    264\u001b[0m \u001b[39m    \"\"\"\u001b[39;00m\n\u001b[0;32m--> 265\u001b[0m     \u001b[39mreturn\u001b[39;00m \u001b[39mself\u001b[39;49m\u001b[39m.\u001b[39;49m_tracking_client\u001b[39m.\u001b[39;49mcreate_run(experiment_id, start_time, tags)\n",
      "File \u001b[0;32m~/.local/lib/python3.8/site-packages/mlflow/tracking/_tracking_service/client.py:107\u001b[0m, in \u001b[0;36mTrackingServiceClient.create_run\u001b[0;34m(self, experiment_id, start_time, tags)\u001b[0m\n\u001b[1;32m    102\u001b[0m \u001b[39m# Extract user from tags\u001b[39;00m\n\u001b[1;32m    103\u001b[0m \u001b[39m# This logic is temporary; the user_id attribute of runs is deprecated and will be removed\u001b[39;00m\n\u001b[1;32m    104\u001b[0m \u001b[39m# in a later release.\u001b[39;00m\n\u001b[1;32m    105\u001b[0m user_id \u001b[39m=\u001b[39m tags\u001b[39m.\u001b[39mget(MLFLOW_USER, \u001b[39m\"\u001b[39m\u001b[39munknown\u001b[39m\u001b[39m\"\u001b[39m)\n\u001b[0;32m--> 107\u001b[0m \u001b[39mreturn\u001b[39;00m \u001b[39mself\u001b[39;49m\u001b[39m.\u001b[39;49mstore\u001b[39m.\u001b[39;49mcreate_run(\n\u001b[1;32m    108\u001b[0m     experiment_id\u001b[39m=\u001b[39;49mexperiment_id,\n\u001b[1;32m    109\u001b[0m     user_id\u001b[39m=\u001b[39;49muser_id,\n\u001b[1;32m    110\u001b[0m     start_time\u001b[39m=\u001b[39;49mstart_time \u001b[39mor\u001b[39;49;00m \u001b[39mint\u001b[39;49m(time\u001b[39m.\u001b[39;49mtime() \u001b[39m*\u001b[39;49m \u001b[39m1000\u001b[39;49m),\n\u001b[1;32m    111\u001b[0m     tags\u001b[39m=\u001b[39;49m[RunTag(key, value) \u001b[39mfor\u001b[39;49;00m (key, value) \u001b[39min\u001b[39;49;00m tags\u001b[39m.\u001b[39;49mitems()],\n\u001b[1;32m    112\u001b[0m )\n",
      "File \u001b[0;32m~/.local/lib/python3.8/site-packages/mlflow/store/tracking/rest_store.py:170\u001b[0m, in \u001b[0;36mRestStore.create_run\u001b[0;34m(self, experiment_id, user_id, start_time, tags)\u001b[0m\n\u001b[1;32m    161\u001b[0m tag_protos \u001b[39m=\u001b[39m [tag\u001b[39m.\u001b[39mto_proto() \u001b[39mfor\u001b[39;00m tag \u001b[39min\u001b[39;00m tags]\n\u001b[1;32m    162\u001b[0m req_body \u001b[39m=\u001b[39m message_to_json(\n\u001b[1;32m    163\u001b[0m     CreateRun(\n\u001b[1;32m    164\u001b[0m         experiment_id\u001b[39m=\u001b[39m\u001b[39mstr\u001b[39m(experiment_id),\n\u001b[0;32m   (...)\u001b[0m\n\u001b[1;32m    168\u001b[0m     )\n\u001b[1;32m    169\u001b[0m )\n\u001b[0;32m--> 170\u001b[0m response_proto \u001b[39m=\u001b[39m \u001b[39mself\u001b[39;49m\u001b[39m.\u001b[39;49m_call_endpoint(CreateRun, req_body)\n\u001b[1;32m    171\u001b[0m run \u001b[39m=\u001b[39m Run\u001b[39m.\u001b[39mfrom_proto(response_proto\u001b[39m.\u001b[39mrun)\n\u001b[1;32m    172\u001b[0m \u001b[39mreturn\u001b[39;00m run\n",
      "File \u001b[0;32m~/.local/lib/python3.8/site-packages/mlflow/store/tracking/rest_store.py:56\u001b[0m, in \u001b[0;36mRestStore._call_endpoint\u001b[0;34m(self, api, json_body)\u001b[0m\n\u001b[1;32m     54\u001b[0m endpoint, method \u001b[39m=\u001b[39m _METHOD_TO_INFO[api]\n\u001b[1;32m     55\u001b[0m response_proto \u001b[39m=\u001b[39m api\u001b[39m.\u001b[39mResponse()\n\u001b[0;32m---> 56\u001b[0m \u001b[39mreturn\u001b[39;00m call_endpoint(\u001b[39mself\u001b[39;49m\u001b[39m.\u001b[39;49mget_host_creds(), endpoint, method, json_body, response_proto)\n",
      "File \u001b[0;32m~/.local/lib/python3.8/site-packages/mlflow/utils/rest_utils.py:256\u001b[0m, in \u001b[0;36mcall_endpoint\u001b[0;34m(host_creds, endpoint, method, json_body, response_proto)\u001b[0m\n\u001b[1;32m    252\u001b[0m \u001b[39melse\u001b[39;00m:\n\u001b[1;32m    253\u001b[0m     response \u001b[39m=\u001b[39m http_request(\n\u001b[1;32m    254\u001b[0m         host_creds\u001b[39m=\u001b[39mhost_creds, endpoint\u001b[39m=\u001b[39mendpoint, method\u001b[39m=\u001b[39mmethod, json\u001b[39m=\u001b[39mjson_body\n\u001b[1;32m    255\u001b[0m     )\n\u001b[0;32m--> 256\u001b[0m response \u001b[39m=\u001b[39m verify_rest_response(response, endpoint)\n\u001b[1;32m    257\u001b[0m js_dict \u001b[39m=\u001b[39m json\u001b[39m.\u001b[39mloads(response\u001b[39m.\u001b[39mtext)\n\u001b[1;32m    258\u001b[0m parse_dict(js_dict\u001b[39m=\u001b[39mjs_dict, message\u001b[39m=\u001b[39mresponse_proto)\n",
      "File \u001b[0;32m~/.local/lib/python3.8/site-packages/mlflow/utils/rest_utils.py:185\u001b[0m, in \u001b[0;36mverify_rest_response\u001b[0;34m(response, endpoint)\u001b[0m\n\u001b[1;32m    183\u001b[0m \u001b[39mif\u001b[39;00m response\u001b[39m.\u001b[39mstatus_code \u001b[39m!=\u001b[39m \u001b[39m200\u001b[39m:\n\u001b[1;32m    184\u001b[0m     \u001b[39mif\u001b[39;00m _can_parse_as_json_object(response\u001b[39m.\u001b[39mtext):\n\u001b[0;32m--> 185\u001b[0m         \u001b[39mraise\u001b[39;00m RestException(json\u001b[39m.\u001b[39mloads(response\u001b[39m.\u001b[39mtext))\n\u001b[1;32m    186\u001b[0m     \u001b[39melse\u001b[39;00m:\n\u001b[1;32m    187\u001b[0m         base_msg \u001b[39m=\u001b[39m \u001b[39m\"\u001b[39m\u001b[39mAPI request to endpoint \u001b[39m\u001b[39m%s\u001b[39;00m\u001b[39m failed with error code \u001b[39m\u001b[39m%s\u001b[39;00m\u001b[39m != 200\u001b[39m\u001b[39m\"\u001b[39m \u001b[39m%\u001b[39m (\n\u001b[1;32m    188\u001b[0m             endpoint,\n\u001b[1;32m    189\u001b[0m             response\u001b[39m.\u001b[39mstatus_code,\n\u001b[1;32m    190\u001b[0m         )\n",
      "\u001b[0;31mRestException\u001b[0m: BAD_REQUEST: (sqlite3.IntegrityError) UNIQUE constraint failed: tags.key, tags.run_uuid\n[SQL: INSERT INTO tags (\"key\", value, run_uuid) VALUES (?, ?, ?)]\n[parameters: (('mlflow.user', 'davi', '663ef17f8329423ab0ecf96b637990f7'), ('mlflow.source.name', '/home/davi/.local/lib/python3.8/site-packages/ipykernel_launcher.py', '663ef17f8329423ab0ecf96b637990f7'), ('mlflow.source.type', 'LOCAL', '663ef17f8329423ab0ecf96b637990f7'), ('mlflow.note.content', 'Flores', '663ef17f8329423ab0ecf96b637990f7'), ('mlflow.runName', 'API', '663ef17f8329423ab0ecf96b637990f7'), ('mlflow.runName', 'monumental-shrew-565', '663ef17f8329423ab0ecf96b637990f7'))]\n(Background on this error at: https://sqlalche.me/e/14/gkpj)"
     ]
    }
   ],
   "source": [
    "from sklearn.neighbors import KNeighborsClassifier\n",
    "from sklearn.preprocessing import StandardScaler\n",
    "from sklearn.pipeline import Pipeline\n",
    "\n",
    "\n",
    "\n",
    "with mlflow.start_run(\n",
    "    run_name='API',\n",
    "    description='Flores',\n",
    "    # tags={\"version\":\"v3\",\"env\":\"dev\"}\n",
    ") as model_run:\n",
    "\n",
    "\n",
    "    k = 9\n",
    "    knn = KNeighborsClassifier(n_neighbors=k)\n",
    "    model = Pipeline([('scaler',StandardScaler()),('knn',knn)])\n",
    "    model.fit(X_train, y_train)\n",
    "\n",
    "    y_pred = model.predict(X_test)\n",
    "\n",
    "    # mc = confusion_matrix(y_test.values.ravel(), y_pred)\n",
    "    ac, pr, rc, f1 = get_metrics(y_test, y_pred)\n",
    "\n",
    "\n",
    "    # mlflow.log_param(\"k\",k)\n",
    "    # mlflow.log_param(\"size_train_dataset\", len(X_train))\n",
    "    # mlflow.log_param(\"size_test_dataset\", len(X_test))\n",
    "\n",
    "    params = {\n",
    "        \"k\":k,\n",
    "        \"size_train_dataset\": len(X_train),\n",
    "        \"size_test_dataset\": len(X_test),\n",
    "    }\n",
    "\n",
    "    metrics = {\n",
    "        \"acuracia\":ac,\n",
    "        \"precision\":pr,\n",
    "        \"recall\":rc,\n",
    "        \"f1\":f1\n",
    "    }\n",
    "\n",
    "    mlflow.log_params(params=params)\n",
    "    mlflow.log_metrics(metrics=metrics)\n",
    "\n",
    "    mlflow.sklearn.log_model(model, \"model\")\n",
    "\n",
    "    # mlflow.log_metric(\"acuracia\",ac)\n",
    "\n",
    "\n"
   ]
  },
  {
   "cell_type": "code",
   "execution_count": 15,
   "metadata": {},
   "outputs": [
    {
     "data": {
      "text/plain": [
       "array([1, 0, 2, 2, 2, 0, 1, 1, 0, 0, 0, 0, 2, 2, 0, 1, 0, 2, 1, 2, 2, 2,\n",
       "       0, 1, 2, 2, 2])"
      ]
     },
     "execution_count": 15,
     "metadata": {},
     "output_type": "execute_result"
    }
   ],
   "source": [
    "import mlflow \n",
    "\n",
    "mlflow.set_tracking_uri(uri='http://18.230.88.3/')\n",
    "\n",
    "PATH = 'models:/Iris/Production'\n",
    "\n",
    "loaded_model = mlflow.sklearn.load_model(PATH)\n",
    "\n",
    "loaded_model.predict(X_val)"
   ]
  },
  {
   "cell_type": "code",
   "execution_count": 16,
   "metadata": {},
   "outputs": [
    {
     "name": "stderr",
     "output_type": "stream",
     "text": [
      "/home/davi/.local/lib/python3.8/site-packages/sklearn/base.py:450: UserWarning: X does not have valid feature names, but StandardScaler was fitted with feature names\n",
      "  warnings.warn(\n"
     ]
    },
    {
     "data": {
      "text/plain": [
       "array([0])"
      ]
     },
     "execution_count": 16,
     "metadata": {},
     "output_type": "execute_result"
    }
   ],
   "source": [
    "loaded_model.predict([[5.1,\t3.5,\t1.4,\t0.2]])"
   ]
  },
  {
   "cell_type": "code",
   "execution_count": 24,
   "metadata": {},
   "outputs": [
    {
     "data": {
      "text/plain": [
       "0.9259259259259259"
      ]
     },
     "execution_count": 24,
     "metadata": {},
     "output_type": "execute_result"
    }
   ],
   "source": [
    "loaded_model.score(X_val,y_val)"
   ]
  }
 ],
 "metadata": {
  "kernelspec": {
   "display_name": "Python 3 (ipykernel)",
   "language": "python",
   "name": "python3"
  },
  "language_info": {
   "codemirror_mode": {
    "name": "ipython",
    "version": 3
   },
   "file_extension": ".py",
   "mimetype": "text/x-python",
   "name": "python",
   "nbconvert_exporter": "python",
   "pygments_lexer": "ipython3",
   "version": "3.8.10"
  },
  "orig_nbformat": 4,
  "vscode": {
   "interpreter": {
    "hash": "916dbcbb3f70747c44a77c7bcd40155683ae19c65e1c03b4aa3499c5328201f1"
   }
  }
 },
 "nbformat": 4,
 "nbformat_minor": 2
}
